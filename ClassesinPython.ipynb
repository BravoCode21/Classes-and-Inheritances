{
 "cells": [
  {
   "cell_type": "markdown",
   "id": "63146d68",
   "metadata": {},
   "source": [
    "# Classes"
   ]
  },
  {
   "cell_type": "code",
   "execution_count": 48,
   "id": "cc7f6721",
   "metadata": {},
   "outputs": [],
   "source": [
    "class Person():\n",
    "    def __init__(self, age, name, color):\n",
    "    #creating attributes for the class\n",
    "        self.name = name\n",
    "        self.age = age\n",
    "        self.color = color\n",
    "        \n",
    "    #create custom method for DoB\n",
    "    def d_o_b(self):\n",
    "        return 2022-self.age\n",
    "    \n",
    "    #projected age\n",
    "    def projected_age(self, years=0):\n",
    "        return self.age+years"
   ]
  },
  {
   "cell_type": "code",
   "execution_count": 49,
   "id": "073de015",
   "metadata": {},
   "outputs": [],
   "source": [
    "#Create a variable/ instance\n",
    "new_person = Person(25,'Elon', 'blue')"
   ]
  },
  {
   "cell_type": "code",
   "execution_count": 50,
   "id": "ab31608b",
   "metadata": {},
   "outputs": [
    {
     "data": {
      "text/plain": [
       "'blue'"
      ]
     },
     "execution_count": 50,
     "metadata": {},
     "output_type": "execute_result"
    }
   ],
   "source": [
    "#accessing class attribute\n",
    "new_person.color"
   ]
  },
  {
   "cell_type": "code",
   "execution_count": 51,
   "id": "dc83dbae",
   "metadata": {},
   "outputs": [
    {
     "data": {
      "text/plain": [
       "1997"
      ]
     },
     "execution_count": 51,
     "metadata": {},
     "output_type": "execute_result"
    }
   ],
   "source": [
    "#run method\n",
    "new_person.d_o_b()"
   ]
  },
  {
   "cell_type": "code",
   "execution_count": 52,
   "id": "eedb068c",
   "metadata": {},
   "outputs": [
    {
     "data": {
      "text/plain": [
       "45"
      ]
     },
     "execution_count": 52,
     "metadata": {},
     "output_type": "execute_result"
    }
   ],
   "source": [
    "#running method with a keyword argument\n",
    "new_person.projected_age(years=20)"
   ]
  },
  {
   "cell_type": "markdown",
   "id": "71cb61ad",
   "metadata": {},
   "source": [
    "# Inheritance\n"
   ]
  },
  {
   "cell_type": "code",
   "execution_count": 53,
   "id": "795b440b",
   "metadata": {},
   "outputs": [],
   "source": [
    "#parent is the class passing down attributes and methods and the  - Person\n",
    "#child class is the class that inherits methods and attributes- Astronaut"
   ]
  },
  {
   "cell_type": "code",
   "execution_count": 54,
   "id": "7e9a73fb",
   "metadata": {},
   "outputs": [],
   "source": [
    "#create a child class\n",
    "class Astronaut(Person):\n",
    "    #def initialization method\n",
    "    def __init__(self, age, name, color, mission_length_months):\n",
    "        #set up class to inherit from a person\n",
    "        #super ethod gives inheritances\n",
    "        super().__init__(name,age,color)\n",
    "        self.mission_length_months = mission_length_months\n",
    "        \n",
    "    #method for calculating age on return\n",
    "    def age_on_return(self):\n",
    "        return self.projected_age(self.mission_length_months/12)\n",
    "        "
   ]
  },
  {
   "cell_type": "code",
   "execution_count": 55,
   "id": "8d1cc642",
   "metadata": {},
   "outputs": [
    {
     "data": {
      "text/plain": [
       "56"
      ]
     },
     "execution_count": 55,
     "metadata": {},
     "output_type": "execute_result"
    }
   ],
   "source": [
    "#accessing parent like attributes\n",
    "new_astronaut = Astronaut('Nick', 56, 'green', 53)\n",
    "new_astronaut.age"
   ]
  },
  {
   "cell_type": "code",
   "execution_count": 56,
   "id": "908f4d9b",
   "metadata": {},
   "outputs": [
    {
     "data": {
      "text/plain": [
       "92"
      ]
     },
     "execution_count": 56,
     "metadata": {},
     "output_type": "execute_result"
    }
   ],
   "source": [
    "new_astronaut.projected_age(years=36)"
   ]
  },
  {
   "cell_type": "code",
   "execution_count": 57,
   "id": "ad804264",
   "metadata": {
    "scrolled": true
   },
   "outputs": [
    {
     "data": {
      "text/plain": [
       "60.416666666666664"
      ]
     },
     "execution_count": 57,
     "metadata": {},
     "output_type": "execute_result"
    }
   ],
   "source": [
    "new_astronaut.age_on_return()"
   ]
  },
  {
   "cell_type": "code",
   "execution_count": 58,
   "id": "76d76c15",
   "metadata": {},
   "outputs": [],
   "source": [
    "#Create a formula 1 child class"
   ]
  },
  {
   "cell_type": "code",
   "execution_count": 59,
   "id": "5d5e4265",
   "metadata": {},
   "outputs": [],
   "source": [
    "class Formulaeins(Person):\n",
    "    def __init__(self, age, name, color, company_name, career_length_years):\n",
    "        super().__init__(age,name,color)\n",
    "        self.company_name = company_name\n",
    "        self.career_length_years = career_length_years\n",
    "        \n",
    "    def year_of_joining(self):\n",
    "        return 2022-self.career_length_years"
   ]
  },
  {
   "cell_type": "code",
   "execution_count": 60,
   "id": "251a1de5",
   "metadata": {},
   "outputs": [],
   "source": [
    "new_driver = Formulaeins(26, 'Dylan', 'Blue','McLaren',7)"
   ]
  },
  {
   "cell_type": "code",
   "execution_count": 64,
   "id": "3d84cdd5",
   "metadata": {},
   "outputs": [
    {
     "data": {
      "text/plain": [
       "71"
      ]
     },
     "execution_count": 64,
     "metadata": {},
     "output_type": "execute_result"
    }
   ],
   "source": [
    "new_driver.projected_age(years=45)"
   ]
  },
  {
   "cell_type": "code",
   "execution_count": 65,
   "id": "43d360b6",
   "metadata": {},
   "outputs": [
    {
     "ename": "NameError",
     "evalue": "name 'get' is not defined",
     "output_type": "error",
     "traceback": [
      "\u001b[1;31m---------------------------------------------------------------\u001b[0m",
      "\u001b[1;31mNameError\u001b[0m                     Traceback (most recent call last)",
      "\u001b[1;32m~\\AppData\\Local\\Temp/ipykernel_13788/831345052.py\u001b[0m in \u001b[0;36m<module>\u001b[1;34m\u001b[0m\n\u001b[1;32m----> 1\u001b[1;33m \u001b[0mget\u001b[0m\u001b[1;33m.\u001b[0m\u001b[0mcwd\u001b[0m\u001b[1;33m(\u001b[0m\u001b[1;33m)\u001b[0m\u001b[1;33m\u001b[0m\u001b[1;33m\u001b[0m\u001b[0m\n\u001b[0m",
      "\u001b[1;31mNameError\u001b[0m: name 'get' is not defined"
     ]
    }
   ],
   "source": [
    "get.cwd()"
   ]
  },
  {
   "cell_type": "code",
   "execution_count": null,
   "id": "96031314",
   "metadata": {},
   "outputs": [],
   "source": []
  }
 ],
 "metadata": {
  "kernelspec": {
   "display_name": "Python 3 (ipykernel)",
   "language": "python",
   "name": "python3"
  },
  "language_info": {
   "codemirror_mode": {
    "name": "ipython",
    "version": 3
   },
   "file_extension": ".py",
   "mimetype": "text/x-python",
   "name": "python",
   "nbconvert_exporter": "python",
   "pygments_lexer": "ipython3",
   "version": "3.9.7"
  }
 },
 "nbformat": 4,
 "nbformat_minor": 5
}
